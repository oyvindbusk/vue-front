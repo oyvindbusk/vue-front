{
 "cells": [
  {
   "cell_type": "code",
   "execution_count": 1,
   "metadata": {},
   "outputs": [],
   "source": [
    "import boto3\n"
   ]
  },
  {
   "cell_type": "code",
   "execution_count": 5,
   "metadata": {},
   "outputs": [
    {
     "name": "stdout",
     "output_type": "stream",
     "text": [
      "http://172.16.0.3:9000/variants/7_50/bam?AWSAccessKeyId=minioadmin&Expires=1589207633&Signature=9528N14xRWhtXOR79QztXoPbWFc%3D\n"
     ]
    }
   ],
   "source": [
    "s3 = boto3.client('s3',\n",
    "endpoint_url = 'http://172.16.0.3:9000',\n",
    "aws_access_key_id = 'minioadmin',\n",
    "aws_secret_access_key = 'minioadmin')\n",
    "\n",
    "url = s3.generate_presigned_url(\n",
    "    ClientMethod='get_object',\n",
    "    Params={\n",
    "        'Bucket': 'variants',\n",
    "        'Key': '7_50/bam'\n",
    "    }\n",
    ")\n",
    "print(url)\n"
   ]
  },
  {
   "cell_type": "code",
   "execution_count": null,
   "metadata": {},
   "outputs": [],
   "source": []
  },
  {
   "cell_type": "code",
   "execution_count": null,
   "metadata": {},
   "outputs": [],
   "source": []
  },
  {
   "cell_type": "code",
   "execution_count": null,
   "metadata": {},
   "outputs": [],
   "source": []
  },
  {
   "cell_type": "code",
   "execution_count": null,
   "metadata": {},
   "outputs": [],
   "source": []
  }
 ],
 "metadata": {
  "kernelspec": {
   "display_name": "Python 2",
   "language": "python",
   "name": "python2"
  },
  "language_info": {
   "codemirror_mode": {
    "name": "ipython",
    "version": 2
   },
   "file_extension": ".py",
   "mimetype": "text/x-python",
   "name": "python",
   "nbconvert_exporter": "python",
   "pygments_lexer": "ipython2",
   "version": "2.7.16"
  }
 },
 "nbformat": 4,
 "nbformat_minor": 2
}
